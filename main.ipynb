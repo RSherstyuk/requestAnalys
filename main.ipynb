{
 "cells": [
  {
   "cell_type": "markdown",
   "id": "ae4dcd2f",
   "metadata": {},
   "source": [
    "# Отчёт по тестовому заданию, выполнил Руслан Шерстюк"
   ]
  },
  {
   "cell_type": "code",
   "execution_count": 10,
   "id": "e83471d8",
   "metadata": {},
   "outputs": [],
   "source": [
    "import pandas as pd\n",
    "import matplotlib.pyplot as plt\n",
    "import sqlite3"
   ]
  },
  {
   "cell_type": "code",
   "execution_count": 5,
   "id": "7e75a043",
   "metadata": {},
   "outputs": [
    {
     "data": {
      "text/html": [
       "<div>\n",
       "<style scoped>\n",
       "    .dataframe tbody tr th:only-of-type {\n",
       "        vertical-align: middle;\n",
       "    }\n",
       "\n",
       "    .dataframe tbody tr th {\n",
       "        vertical-align: top;\n",
       "    }\n",
       "\n",
       "    .dataframe thead th {\n",
       "        text-align: right;\n",
       "    }\n",
       "</style>\n",
       "<table border=\"1\" class=\"dataframe\">\n",
       "  <thead>\n",
       "    <tr style=\"text-align: right;\">\n",
       "      <th></th>\n",
       "      <th>search_query</th>\n",
       "      <th>timestamp</th>\n",
       "      <th>device_type</th>\n",
       "    </tr>\n",
       "  </thead>\n",
       "  <tbody>\n",
       "    <tr>\n",
       "      <th>0</th>\n",
       "      <td>порно фото</td>\n",
       "      <td>1631786697</td>\n",
       "      <td>touch</td>\n",
       "    </tr>\n",
       "    <tr>\n",
       "      <th>1</th>\n",
       "      <td>малевич картины</td>\n",
       "      <td>1631806465</td>\n",
       "      <td>desktop</td>\n",
       "    </tr>\n",
       "    <tr>\n",
       "      <th>2</th>\n",
       "      <td>Секс</td>\n",
       "      <td>1631781583</td>\n",
       "      <td>touch</td>\n",
       "    </tr>\n",
       "    <tr>\n",
       "      <th>3</th>\n",
       "      <td>с днём рождения лена</td>\n",
       "      <td>1631771563</td>\n",
       "      <td>touch</td>\n",
       "    </tr>\n",
       "    <tr>\n",
       "      <th>4</th>\n",
       "      <td>зверополис порно</td>\n",
       "      <td>1631787599</td>\n",
       "      <td>touch</td>\n",
       "    </tr>\n",
       "  </tbody>\n",
       "</table>\n",
       "</div>"
      ],
      "text/plain": [
       "           search_query   timestamp device_type\n",
       "0            порно фото  1631786697       touch\n",
       "1       малевич картины  1631806465     desktop\n",
       "2                  Секс  1631781583       touch\n",
       "3  с днём рождения лена  1631771563       touch\n",
       "4      зверополис порно  1631787599       touch"
      ]
     },
     "execution_count": 5,
     "metadata": {},
     "output_type": "execute_result"
    }
   ],
   "source": [
    "#Загрузим данные\n",
    "df = pd.read_csv('data/data.tsv', sep='\\t', header=None, names=['search_query', 'timestamp', 'device_type'])\n",
    "df.head()"
   ]
  },
  {
   "cell_type": "markdown",
   "id": "ba30b9f9",
   "metadata": {},
   "source": [
    "Данные можно получить и через sql, если загрузим в данную таблицу в например sqlite3 database. Перед этим импортируем в csv для упрощения загрузки данных. И таким же образом выполнять запросы"
   ]
  },
  {
   "cell_type": "markdown",
   "id": "f8fb762c",
   "metadata": {},
   "source": [
    "```bash\n",
    "sqlite3 data.db\n",
    ".mode csv\n",
    ".import output.csv table_name\n",
    "```"
   ]
  },
  {
   "cell_type": "code",
   "execution_count": 7,
   "id": "01e19452",
   "metadata": {},
   "outputs": [],
   "source": [
    "df.to_csv('output.csv', index=False)"
   ]
  },
  {
   "cell_type": "code",
   "execution_count": 14,
   "id": "797daf5b",
   "metadata": {},
   "outputs": [
    {
     "data": {
      "text/html": [
       "<div>\n",
       "<style scoped>\n",
       "    .dataframe tbody tr th:only-of-type {\n",
       "        vertical-align: middle;\n",
       "    }\n",
       "\n",
       "    .dataframe tbody tr th {\n",
       "        vertical-align: top;\n",
       "    }\n",
       "\n",
       "    .dataframe thead th {\n",
       "        text-align: right;\n",
       "    }\n",
       "</style>\n",
       "<table border=\"1\" class=\"dataframe\">\n",
       "  <thead>\n",
       "    <tr style=\"text-align: right;\">\n",
       "      <th></th>\n",
       "      <th>search_query</th>\n",
       "      <th>timestamp</th>\n",
       "      <th>device_type</th>\n",
       "    </tr>\n",
       "  </thead>\n",
       "  <tbody>\n",
       "    <tr>\n",
       "      <th>0</th>\n",
       "      <td>порно фото</td>\n",
       "      <td>1631786697</td>\n",
       "      <td>touch</td>\n",
       "    </tr>\n",
       "    <tr>\n",
       "      <th>1</th>\n",
       "      <td>малевич картины</td>\n",
       "      <td>1631806465</td>\n",
       "      <td>desktop</td>\n",
       "    </tr>\n",
       "    <tr>\n",
       "      <th>2</th>\n",
       "      <td>Секс</td>\n",
       "      <td>1631781583</td>\n",
       "      <td>touch</td>\n",
       "    </tr>\n",
       "    <tr>\n",
       "      <th>3</th>\n",
       "      <td>с днём рождения лена</td>\n",
       "      <td>1631771563</td>\n",
       "      <td>touch</td>\n",
       "    </tr>\n",
       "    <tr>\n",
       "      <th>4</th>\n",
       "      <td>зверополис порно</td>\n",
       "      <td>1631787599</td>\n",
       "      <td>touch</td>\n",
       "    </tr>\n",
       "  </tbody>\n",
       "</table>\n",
       "</div>"
      ],
      "text/plain": [
       "           search_query   timestamp device_type\n",
       "0            порно фото  1631786697       touch\n",
       "1       малевич картины  1631806465     desktop\n",
       "2                  Секс  1631781583       touch\n",
       "3  с днём рождения лена  1631771563       touch\n",
       "4      зверополис порно  1631787599       touch"
      ]
     },
     "execution_count": 14,
     "metadata": {},
     "output_type": "execute_result"
    }
   ],
   "source": [
    "query = \"select * from data\"\n",
    "\n",
    "con = sqlite3.connect('data/data.db')\n",
    "\n",
    "#Получение данных\n",
    "datafatame = pd.read_sql(query, con)\n",
    "\n",
    "#Закрыли соедеинение\n",
    "con.close()\n",
    "\n",
    "datafatame.head()"
   ]
  },
  {
   "cell_type": "code",
   "execution_count": 13,
   "id": "93f4669f",
   "metadata": {},
   "outputs": [
    {
     "data": {
      "text/plain": [
       "search_query    0\n",
       "timestamp       0\n",
       "device_type     0\n",
       "dtype: int64"
      ]
     },
     "execution_count": 13,
     "metadata": {},
     "output_type": "execute_result"
    }
   ],
   "source": [
    "#Проверим данные на пропуски\n",
    "df.isna().sum()"
   ]
  },
  {
   "cell_type": "markdown",
   "id": "710e35b4",
   "metadata": {},
   "source": [
    "# Задание 1 \n",
    "### *Укажите даты диапазона предоставленного вам для анализа.* \n",
    "\n",
    "Видим, что данные дат находятся во второй колонке, они в *unix timestampe* формате. Можем просто перевести их в формат дат в отдельную колонку *date* и посчиатем минимальную и максимальную соответственно, далее вычислим диапазон "
   ]
  },
  {
   "cell_type": "code",
   "execution_count": 327,
   "id": "1c376d83",
   "metadata": {},
   "outputs": [
    {
     "name": "stdout",
     "output_type": "stream",
     "text": [
      "Временной диапазон данных: от 2021-08-31 21:00:00 до 2021-09-21 20:59:59\n"
     ]
    }
   ],
   "source": [
    "df['date'] = pd.to_datetime(df['timestamp'], unit = 's')\n",
    "\n",
    "min_date = df['date'].min()\n",
    "max_date = df['date'].max()\n",
    "\n",
    "print(f\"Временной диапазон данных: от {min_date} до {max_date}\")"
   ]
  },
  {
   "cell_type": "markdown",
   "id": "d240c0a5",
   "metadata": {},
   "source": [
    "# Задание 2\n",
    "\n",
    "### *Рассчитайте кол-во запросов с текстом \"ютуб\" в каждой платформе (desktop,touch)*\n",
    "\n",
    "Сделаем маску с нужным нам значением *ютуб* и применим к нашему dataFrame. Видим, что с десктопов запросов больше, чем с мобильных устройств"
   ]
  },
  {
   "cell_type": "code",
   "execution_count": 328,
   "id": "ad261022",
   "metadata": {},
   "outputs": [
    {
     "name": "stdout",
     "output_type": "stream",
     "text": [
      "Колличество запросов с desktop - 806\n",
      "Колличество запросов с touch - 732\n"
     ]
    }
   ],
   "source": [
    "mask = df['search_query'].str.contains(\n",
    "    r'ютуб',\n",
    "    case=False,\n",
    "    na=False,\n",
    ")\n",
    "\n",
    "filtered_df = df[mask]\n",
    "\n",
    "\n",
    "desktop_y = filtered_df[filtered_df['device_type'] == 'desktop']['search_query'].size\n",
    "\n",
    "touch_y = filtered_df[filtered_df['device_type'] == 'touch']['search_query'].size\n",
    "\n",
    "print(f\"Колличество запросов с desktop - {desktop_y}\")\n",
    "print(f\"Колличество запросов с touch - {touch_y}\")"
   ]
  },
  {
   "cell_type": "markdown",
   "id": "4ad47cd0",
   "metadata": {},
   "source": [
    "Попробуем, расшить масску добави ругуляроне выражение. Видим, что всё также больше с декстопных устройств запросов больше."
   ]
  },
  {
   "cell_type": "code",
   "execution_count": 329,
   "id": "ea08c5f6",
   "metadata": {},
   "outputs": [
    {
     "name": "stdout",
     "output_type": "stream",
     "text": [
      "Колличество запросов с desktop - 1668\n",
      "Колличество запросов с touch - 894\n"
     ]
    }
   ],
   "source": [
    "mask = df['search_query'].str.contains(\n",
    "    r'ютуб|ютьюб|youtube|ютюб',\n",
    "    case=False,\n",
    "    na=False,\n",
    "    regex=True\n",
    ")\n",
    "\n",
    "filtered_df = df[mask]\n",
    "\n",
    "\n",
    "desktop_y = filtered_df[filtered_df['device_type'] == 'desktop']['search_query'].size\n",
    "\n",
    "touch_y = filtered_df[filtered_df['device_type'] == 'touch']['search_query'].size\n",
    "\n",
    "print(f\"Колличество запросов с desktop - {desktop_y}\")\n",
    "print(f\"Колличество запросов с touch - {touch_y}\")"
   ]
  },
  {
   "cell_type": "markdown",
   "id": "40e49b25",
   "metadata": {},
   "source": [
    "# Задание 3\n",
    "\n",
    "### *Выведите топ10 самых частотных запросов в каждой платформе (desktop,touch). Какие отличия вы видите?*\n",
    "\n",
    "Сделаем новый *DataFrame* с данными о 10 самых популярных запросах в двух категорях *desktop,touch*"
   ]
  },
  {
   "cell_type": "code",
   "execution_count": 330,
   "id": "c4ad43d8",
   "metadata": {},
   "outputs": [],
   "source": [
    "desktop_top = (\n",
    "    df[df['device_type'] == 'desktop']\n",
    "    ['search_query']\n",
    "    .value_counts()\n",
    "    .head(10)\n",
    "    .rename_axis('Запрос')\n",
    "    .reset_index(name='Количество')\n",
    ")\n",
    "\n",
    "touch_top = (\n",
    "    df[df['device_type'] == 'touch']\n",
    "    ['search_query']\n",
    "    .value_counts()\n",
    "    .head(10)\n",
    "    .rename_axis('Запрос')\n",
    "    .reset_index(name='Количество')\n",
    ")\n"
   ]
  },
  {
   "cell_type": "code",
   "execution_count": 331,
   "id": "c0d6c1ef",
   "metadata": {},
   "outputs": [
    {
     "data": {
      "text/html": [
       "<div>\n",
       "<style scoped>\n",
       "    .dataframe tbody tr th:only-of-type {\n",
       "        vertical-align: middle;\n",
       "    }\n",
       "\n",
       "    .dataframe tbody tr th {\n",
       "        vertical-align: top;\n",
       "    }\n",
       "\n",
       "    .dataframe thead th {\n",
       "        text-align: right;\n",
       "    }\n",
       "</style>\n",
       "<table border=\"1\" class=\"dataframe\">\n",
       "  <thead>\n",
       "    <tr style=\"text-align: right;\">\n",
       "      <th></th>\n",
       "      <th>Запрос</th>\n",
       "      <th>Количество</th>\n",
       "    </tr>\n",
       "  </thead>\n",
       "  <tbody>\n",
       "    <tr>\n",
       "      <th>0</th>\n",
       "      <td>календарь 2021</td>\n",
       "      <td>2804</td>\n",
       "    </tr>\n",
       "    <tr>\n",
       "      <th>1</th>\n",
       "      <td>таблица менделеева</td>\n",
       "      <td>2631</td>\n",
       "    </tr>\n",
       "    <tr>\n",
       "      <th>2</th>\n",
       "      <td>картинки</td>\n",
       "      <td>1647</td>\n",
       "    </tr>\n",
       "    <tr>\n",
       "      <th>3</th>\n",
       "      <td>порно</td>\n",
       "      <td>1342</td>\n",
       "    </tr>\n",
       "    <tr>\n",
       "      <th>4</th>\n",
       "      <td>английский алфавит</td>\n",
       "      <td>1293</td>\n",
       "    </tr>\n",
       "    <tr>\n",
       "      <th>5</th>\n",
       "      <td>обои на рабочий стол</td>\n",
       "      <td>1143</td>\n",
       "    </tr>\n",
       "    <tr>\n",
       "      <th>6</th>\n",
       "      <td>Одноклассники (социальная сеть)</td>\n",
       "      <td>1116</td>\n",
       "    </tr>\n",
       "    <tr>\n",
       "      <th>7</th>\n",
       "      <td>секс</td>\n",
       "      <td>895</td>\n",
       "    </tr>\n",
       "    <tr>\n",
       "      <th>8</th>\n",
       "      <td>таблица квадратов</td>\n",
       "      <td>877</td>\n",
       "    </tr>\n",
       "    <tr>\n",
       "      <th>9</th>\n",
       "      <td>алфавит</td>\n",
       "      <td>874</td>\n",
       "    </tr>\n",
       "  </tbody>\n",
       "</table>\n",
       "</div>"
      ],
      "text/plain": [
       "                            Запрос  Количество\n",
       "0                   календарь 2021        2804\n",
       "1               таблица менделеева        2631\n",
       "2                         картинки        1647\n",
       "3                            порно        1342\n",
       "4               английский алфавит        1293\n",
       "5             обои на рабочий стол        1143\n",
       "6  Одноклассники (социальная сеть)        1116\n",
       "7                             секс         895\n",
       "8                таблица квадратов         877\n",
       "9                          алфавит         874"
      ]
     },
     "execution_count": 331,
     "metadata": {},
     "output_type": "execute_result"
    }
   ],
   "source": [
    "desktop_top"
   ]
  },
  {
   "cell_type": "markdown",
   "id": "4e525cc3",
   "metadata": {},
   "source": [
    "Видим, что чаще всего с декстопа ищут календарь, таблицу менделева и картинками."
   ]
  },
  {
   "cell_type": "code",
   "execution_count": 332,
   "id": "f8f63edf",
   "metadata": {},
   "outputs": [
    {
     "data": {
      "text/html": [
       "<div>\n",
       "<style scoped>\n",
       "    .dataframe tbody tr th:only-of-type {\n",
       "        vertical-align: middle;\n",
       "    }\n",
       "\n",
       "    .dataframe tbody tr th {\n",
       "        vertical-align: top;\n",
       "    }\n",
       "\n",
       "    .dataframe thead th {\n",
       "        text-align: right;\n",
       "    }\n",
       "</style>\n",
       "<table border=\"1\" class=\"dataframe\">\n",
       "  <thead>\n",
       "    <tr style=\"text-align: right;\">\n",
       "      <th></th>\n",
       "      <th>Запрос</th>\n",
       "      <th>Количество</th>\n",
       "    </tr>\n",
       "  </thead>\n",
       "  <tbody>\n",
       "    <tr>\n",
       "      <th>0</th>\n",
       "      <td>порно</td>\n",
       "      <td>7740</td>\n",
       "    </tr>\n",
       "    <tr>\n",
       "      <th>1</th>\n",
       "      <td>секс</td>\n",
       "      <td>6348</td>\n",
       "    </tr>\n",
       "    <tr>\n",
       "      <th>2</th>\n",
       "      <td>с днём рождения женщине</td>\n",
       "      <td>4903</td>\n",
       "    </tr>\n",
       "    <tr>\n",
       "      <th>3</th>\n",
       "      <td>с днём рождения</td>\n",
       "      <td>3967</td>\n",
       "    </tr>\n",
       "    <tr>\n",
       "      <th>4</th>\n",
       "      <td>с днём рождения мужчине</td>\n",
       "      <td>3623</td>\n",
       "    </tr>\n",
       "    <tr>\n",
       "      <th>5</th>\n",
       "      <td>хентай</td>\n",
       "      <td>3157</td>\n",
       "    </tr>\n",
       "    <tr>\n",
       "      <th>6</th>\n",
       "      <td>с днем рождения</td>\n",
       "      <td>3005</td>\n",
       "    </tr>\n",
       "    <tr>\n",
       "      <th>7</th>\n",
       "      <td>xxx</td>\n",
       "      <td>2429</td>\n",
       "    </tr>\n",
       "    <tr>\n",
       "      <th>8</th>\n",
       "      <td>Порно</td>\n",
       "      <td>2330</td>\n",
       "    </tr>\n",
       "    <tr>\n",
       "      <th>9</th>\n",
       "      <td>календарь 2021</td>\n",
       "      <td>2237</td>\n",
       "    </tr>\n",
       "  </tbody>\n",
       "</table>\n",
       "</div>"
      ],
      "text/plain": [
       "                    Запрос  Количество\n",
       "0                    порно        7740\n",
       "1                     секс        6348\n",
       "2  с днём рождения женщине        4903\n",
       "3          с днём рождения        3967\n",
       "4  с днём рождения мужчине        3623\n",
       "5                   хентай        3157\n",
       "6          с днем рождения        3005\n",
       "7                      xxx        2429\n",
       "8                    Порно        2330\n",
       "9           календарь 2021        2237"
      ]
     },
     "execution_count": 332,
     "metadata": {},
     "output_type": "execute_result"
    }
   ],
   "source": [
    "touch_top"
   ]
  },
  {
   "cell_type": "markdown",
   "id": "a77bcea6",
   "metadata": {},
   "source": [
    "А вот с мобильными устройствами все проще, чаще всего пользователи заходят на категории *18+*, но есть и запросы на день рождения, вероятно, ищут слова поздравления или открытки"
   ]
  },
  {
   "cell_type": "markdown",
   "id": "e50b0dac",
   "metadata": {},
   "source": [
    "# Задание 4\n",
    "\n",
    "### *Посмотрите, чем отличается трафик запросов в течении дня. Как можно объяснить отличие?*"
   ]
  },
  {
   "cell_type": "code",
   "execution_count": 333,
   "id": "db44de78",
   "metadata": {},
   "outputs": [],
   "source": [
    "df['hour'] = df['date'].dt.hour\n",
    "\n",
    "trafic_by_hours = df.groupby('hour').size().reset_index(name='total_requests')\n",
    "\n",
    "trafic_by_device = df.groupby(['hour', 'device_type']).size().unstack().fillna(0)\n"
   ]
  },
  {
   "cell_type": "markdown",
   "id": "82a03b22",
   "metadata": {},
   "source": [
    "### Визуализация"
   ]
  },
  {
   "cell_type": "code",
   "execution_count": 334,
   "id": "3cfabd72",
   "metadata": {},
   "outputs": [
    {
     "data": {
      "image/png": "[encoded data removed]",
      "text/plain": [
       "<Figure size 1200x600 with 1 Axes>"
      ]
     },
     "metadata": {},
     "output_type": "display_data"
    }
   ],
   "source": [
    "plt.figure(figsize=(12, 6))\n",
    "plt.plot(trafic_by_hours['hour'], trafic_by_hours['total_requests'], marker='o', color='blue')\n",
    "plt.xlabel('Час дня')\n",
    "plt.ylabel('Количество запросов')\n",
    "plt.xticks(range(24))\n",
    "plt.grid(True)\n"
   ]
  },
  {
   "cell_type": "code",
   "execution_count": 335,
   "id": "95613f91",
   "metadata": {},
   "outputs": [
    {
     "data": {
      "text/plain": [
       "<matplotlib.legend.Legend at 0x7f8989872490>"
      ]
     },
     "execution_count": 335,
     "metadata": {},
     "output_type": "execute_result"
    },
    {
     "data": {
      "image/png": "[encoded data removed]",
      "text/plain": [
       "<Figure size 1200x600 with 1 Axes>"
      ]
     },
     "metadata": {},
     "output_type": "display_data"
    }
   ],
   "source": [
    "trafic_by_device.plot(kind='bar', stacked=True, figsize=(12, 6))\n",
    "plt.xlabel('')\n",
    "plt.ylabel('Количество запросов')\n",
    "plt.xticks(range(24), rotation=1)\n",
    "plt.legend(title='Устройство')"
   ]
  },
  {
   "cell_type": "markdown",
   "id": "5aec2986",
   "metadata": {},
   "source": [
    "Проанализируем основные метрики: часы с максимальной нагрузкой, процент мобильного трафика\n",
    "\n",
    "Видно, что есть два локальных максимума. Это утром в 7 часов и вечером в 17. Это нам можем говорить о том, что, вероятно, люди просываются заходят в интернет, делают запросы и делают запросы, когда идту домой с работы или уже приходят домой. Видно, что к ночи активность сильно уменьшается. В 20 часов она начинает резко падать, это, очевидно, связано с тем, что люди ложатся спать.\n",
    "\n",
    "Также видно, что есть большое отличие по колличеству трафика с мобильных и декстопных устройств - с мобильных больше. А также стоит, что на десктопных устройствах нет пиков парактически, это нам говорит о том, что люди заходят утром и после работы вечером чаще с мобильных устройств. Доля мобильных устройств получилась равной 68.8%"
   ]
  },
  {
   "cell_type": "code",
   "execution_count": 336,
   "id": "e5008c57",
   "metadata": {},
   "outputs": [
    {
     "name": "stdout",
     "output_type": "stream",
     "text": [
      "Локальные максимумы активности утром - в 7 часов 68364 запросов \n",
      "      и вечером - в 17 часов 76595 запросов\n",
      "Доля мобильных запросов: 65.8%\n"
     ]
    }
   ],
   "source": [
    "peak_hour = trafic_by_hours.loc[trafic_by_hours['total_requests'].idxmax()]\n",
    "peak_hours = trafic_by_hours.sort_values('total_requests', ascending=False)\n",
    "\n",
    "local_peak_1 = peak_hours.iloc[0]\n",
    "local_peak_2 = peak_hours.iloc[7]\n",
    "\n",
    "print(f\"\"\"Локальные максимумы активности утром - в {local_peak_2['hour']} часов {local_peak_2['total_requests']} запросов \n",
    "      и вечером - в {local_peak_1['hour']} часов {local_peak_1['total_requests']} запросов\"\"\")\n",
    "\n",
    "mobile_prcent = (trafic_by_device['touch'].sum() / df.shape[0]) * 100\n",
    "\n",
    "print(f\"Доля мобильных запросов: {mobile_prcent:.1f}%\")\n"
   ]
  },
  {
   "cell_type": "markdown",
   "id": "7aaf020c",
   "metadata": {},
   "source": [
    "# Задание 5\n",
    "\n",
    "### *Выделите тематики запросов, контрастные для мобильных и компьютеров - темы, доля которых отличаются на разных платформах*\n",
    "\n",
    "Для начала выделим основные категории запросов - погода, новости, игры и тд.\n"
   ]
  },
  {
   "cell_type": "code",
   "execution_count": 337,
   "id": "7c167d3f",
   "metadata": {},
   "outputs": [],
   "source": [
    "#Сделаем словарь категорий отдельно\n",
    "categories = {\n",
    "        'Погода': ['погода', 'яндекс погода'],\n",
    "        'Новости': ['новости', 'сми', 'нвоость'],\n",
    "        'Игры': ['игры', 'игра'],\n",
    "        'Соцсети': ['vk', 'вк', 'фейсбук', 'facebook', 'WhatsApp', 'inst', 'instagram', 'инстаграм', 'однокласники'],\n",
    "        'Работа': ['работа', 'вакансии', 'hh', 'хедхантер', 'headhunter'],\n",
    "        'Музыка': ['музыка', 'яндекс музыка', 'vk музыка', 'spotify', 'спотифай'],\n",
    "        'Фильмы': ['фильмы', 'кинопоиск'],\n",
    "        'Шопинг': ['я маркет', 'ozon', 'wildberies', 'озон', 'вайлдберис'],\n",
    "        '18+': ['порно', 'порнохаб', 'порнхаб', '18+', 'xxx', 'секс']\n",
    "    }\n",
    "\n",
    "#В функции пройдемся по словарю и будем итеративно разделять запросы по выделенным категорям, использую предикат any()\n",
    "def categorize(query):\n",
    "    query = query.lower()\n",
    "    for category, keywords in categories.items():\n",
    "        if any(kw in query for kw in keywords):\n",
    "            return category \n",
    "    return 'Другое'"
   ]
  },
  {
   "cell_type": "code",
   "execution_count": 338,
   "id": "6feea6cf",
   "metadata": {},
   "outputs": [],
   "source": [
    "#Применим нашу функцию к выборке категорий\n",
    "df['categiry'] = df['search_query'].apply(categorize)"
   ]
  },
  {
   "cell_type": "code",
   "execution_count": 339,
   "id": "779bd2eb",
   "metadata": {},
   "outputs": [
    {
     "data": {
      "text/plain": [
       "array(['18+', 'Другое', 'Соцсети', 'Фильмы', 'Игры', 'Погода', 'Музыка',\n",
       "       'Новости', 'Работа', 'Шопинг'], dtype=object)"
      ]
     },
     "execution_count": 339,
     "metadata": {},
     "output_type": "execute_result"
    }
   ],
   "source": [
    "#Посмотрим на уникальные категории, действительно ли все наши попали в занчения\n",
    "df['categiry'].unique()"
   ]
  },
  {
   "cell_type": "code",
   "execution_count": 340,
   "id": "69041729",
   "metadata": {},
   "outputs": [],
   "source": [
    "#Разделим наши данные по категориям в отдельные переменные\n",
    "mobile_df = df[df['device_type'] == 'touch']\n",
    "desktop_df = df[df['device_type'] == 'desktop']"
   ]
  },
  {
   "cell_type": "code",
   "execution_count": 341,
   "id": "0c7292d2",
   "metadata": {},
   "outputs": [
    {
     "data": {
      "text/html": [
       "<div>\n",
       "<style scoped>\n",
       "    .dataframe tbody tr th:only-of-type {\n",
       "        vertical-align: middle;\n",
       "    }\n",
       "\n",
       "    .dataframe tbody tr th {\n",
       "        vertical-align: top;\n",
       "    }\n",
       "\n",
       "    .dataframe thead th {\n",
       "        text-align: right;\n",
       "    }\n",
       "</style>\n",
       "<table border=\"1\" class=\"dataframe\">\n",
       "  <thead>\n",
       "    <tr style=\"text-align: right;\">\n",
       "      <th></th>\n",
       "      <th>mobile_%</th>\n",
       "      <th>desktop_%</th>\n",
       "    </tr>\n",
       "    <tr>\n",
       "      <th>categiry</th>\n",
       "      <th></th>\n",
       "      <th></th>\n",
       "    </tr>\n",
       "  </thead>\n",
       "  <tbody>\n",
       "    <tr>\n",
       "      <th>Другое</th>\n",
       "      <td>92.7296</td>\n",
       "      <td>96.7480</td>\n",
       "    </tr>\n",
       "    <tr>\n",
       "      <th>18+</th>\n",
       "      <td>6.1648</td>\n",
       "      <td>1.5307</td>\n",
       "    </tr>\n",
       "    <tr>\n",
       "      <th>Соцсети</th>\n",
       "      <td>0.7789</td>\n",
       "      <td>1.2601</td>\n",
       "    </tr>\n",
       "    <tr>\n",
       "      <th>Погода</th>\n",
       "      <td>0.0976</td>\n",
       "      <td>0.0415</td>\n",
       "    </tr>\n",
       "    <tr>\n",
       "      <th>Игры</th>\n",
       "      <td>0.0908</td>\n",
       "      <td>0.2046</td>\n",
       "    </tr>\n",
       "    <tr>\n",
       "      <th>Фильмы</th>\n",
       "      <td>0.0640</td>\n",
       "      <td>0.0719</td>\n",
       "    </tr>\n",
       "    <tr>\n",
       "      <th>Новости</th>\n",
       "      <td>0.0255</td>\n",
       "      <td>0.0335</td>\n",
       "    </tr>\n",
       "    <tr>\n",
       "      <th>Музыка</th>\n",
       "      <td>0.0247</td>\n",
       "      <td>0.0595</td>\n",
       "    </tr>\n",
       "    <tr>\n",
       "      <th>Шопинг</th>\n",
       "      <td>0.0198</td>\n",
       "      <td>0.0384</td>\n",
       "    </tr>\n",
       "    <tr>\n",
       "      <th>Работа</th>\n",
       "      <td>0.0043</td>\n",
       "      <td>0.0117</td>\n",
       "    </tr>\n",
       "  </tbody>\n",
       "</table>\n",
       "</div>"
      ],
      "text/plain": [
       "          mobile_%  desktop_%\n",
       "categiry                     \n",
       "Другое     92.7296    96.7480\n",
       "18+         6.1648     1.5307\n",
       "Соцсети     0.7789     1.2601\n",
       "Погода      0.0976     0.0415\n",
       "Игры        0.0908     0.2046\n",
       "Фильмы      0.0640     0.0719\n",
       "Новости     0.0255     0.0335\n",
       "Музыка      0.0247     0.0595\n",
       "Шопинг      0.0198     0.0384\n",
       "Работа      0.0043     0.0117"
      ]
     },
     "execution_count": 341,
     "metadata": {},
     "output_type": "execute_result"
    }
   ],
   "source": [
    "#выделим две категории \n",
    "mobile_dist = (\n",
    "    mobile_df['categiry'].value_counts(normalize=True)\n",
    "    .mul(100)\n",
    "    .round(4)\n",
    "    .rename('mobile_%')\n",
    ")\n",
    "\n",
    "\n",
    "\n",
    "desktop_dist = (\n",
    "    desktop_df['categiry'].value_counts(normalize=True)\n",
    "    .mul(100)\n",
    "    .round(4)\n",
    "    .rename('desktop_%')\n",
    ")\n",
    "\n",
    "dist = pd.concat([mobile_dist, desktop_dist], axis=1)\n",
    "dist"
   ]
  },
  {
   "cell_type": "code",
   "execution_count": 342,
   "id": "c3824cce",
   "metadata": {},
   "outputs": [
    {
     "data": {
      "text/html": [
       "<div>\n",
       "<style scoped>\n",
       "    .dataframe tbody tr th:only-of-type {\n",
       "        vertical-align: middle;\n",
       "    }\n",
       "\n",
       "    .dataframe tbody tr th {\n",
       "        vertical-align: top;\n",
       "    }\n",
       "\n",
       "    .dataframe thead th {\n",
       "        text-align: right;\n",
       "    }\n",
       "</style>\n",
       "<table border=\"1\" class=\"dataframe\">\n",
       "  <thead>\n",
       "    <tr style=\"text-align: right;\">\n",
       "      <th></th>\n",
       "      <th>mobile_%</th>\n",
       "      <th>desktop_%</th>\n",
       "      <th>diff</th>\n",
       "    </tr>\n",
       "    <tr>\n",
       "      <th>categiry</th>\n",
       "      <th></th>\n",
       "      <th></th>\n",
       "      <th></th>\n",
       "    </tr>\n",
       "  </thead>\n",
       "  <tbody>\n",
       "    <tr>\n",
       "      <th>Другое</th>\n",
       "      <td>92.7296</td>\n",
       "      <td>96.7480</td>\n",
       "      <td>4.0184</td>\n",
       "    </tr>\n",
       "    <tr>\n",
       "      <th>18+</th>\n",
       "      <td>6.1648</td>\n",
       "      <td>1.5307</td>\n",
       "      <td>4.6341</td>\n",
       "    </tr>\n",
       "    <tr>\n",
       "      <th>Соцсети</th>\n",
       "      <td>0.7789</td>\n",
       "      <td>1.2601</td>\n",
       "      <td>0.4812</td>\n",
       "    </tr>\n",
       "    <tr>\n",
       "      <th>Погода</th>\n",
       "      <td>0.0976</td>\n",
       "      <td>0.0415</td>\n",
       "      <td>0.0561</td>\n",
       "    </tr>\n",
       "    <tr>\n",
       "      <th>Игры</th>\n",
       "      <td>0.0908</td>\n",
       "      <td>0.2046</td>\n",
       "      <td>0.1138</td>\n",
       "    </tr>\n",
       "    <tr>\n",
       "      <th>Фильмы</th>\n",
       "      <td>0.0640</td>\n",
       "      <td>0.0719</td>\n",
       "      <td>0.0079</td>\n",
       "    </tr>\n",
       "    <tr>\n",
       "      <th>Новости</th>\n",
       "      <td>0.0255</td>\n",
       "      <td>0.0335</td>\n",
       "      <td>0.0080</td>\n",
       "    </tr>\n",
       "    <tr>\n",
       "      <th>Музыка</th>\n",
       "      <td>0.0247</td>\n",
       "      <td>0.0595</td>\n",
       "      <td>0.0348</td>\n",
       "    </tr>\n",
       "    <tr>\n",
       "      <th>Шопинг</th>\n",
       "      <td>0.0198</td>\n",
       "      <td>0.0384</td>\n",
       "      <td>0.0186</td>\n",
       "    </tr>\n",
       "    <tr>\n",
       "      <th>Работа</th>\n",
       "      <td>0.0043</td>\n",
       "      <td>0.0117</td>\n",
       "      <td>0.0074</td>\n",
       "    </tr>\n",
       "  </tbody>\n",
       "</table>\n",
       "</div>"
      ],
      "text/plain": [
       "          mobile_%  desktop_%    diff\n",
       "categiry                             \n",
       "Другое     92.7296    96.7480  4.0184\n",
       "18+         6.1648     1.5307  4.6341\n",
       "Соцсети     0.7789     1.2601  0.4812\n",
       "Погода      0.0976     0.0415  0.0561\n",
       "Игры        0.0908     0.2046  0.1138\n",
       "Фильмы      0.0640     0.0719  0.0079\n",
       "Новости     0.0255     0.0335  0.0080\n",
       "Музыка      0.0247     0.0595  0.0348\n",
       "Шопинг      0.0198     0.0384  0.0186\n",
       "Работа      0.0043     0.0117  0.0074"
      ]
     },
     "execution_count": 342,
     "metadata": {},
     "output_type": "execute_result"
    }
   ],
   "source": [
    "#Добавим разность между процентным соотношением\n",
    "dist['diff'] = (dist['mobile_%'] - dist['desktop_%']).abs()\n",
    "dist"
   ]
  },
  {
   "cell_type": "markdown",
   "id": "39472758",
   "metadata": {},
   "source": [
    "Видно, что подобрали ключевые слова досточно плохо (список самособой можно расширить и выборка будет более различима), но всё же категоризация есть и разница видна, исключим категорию *Другое* за неинформативностью. Посмотрим на графики распределения категорий по девайсам"
   ]
  },
  {
   "cell_type": "markdown",
   "id": "9c6a5448",
   "metadata": {},
   "source": [
    "### Визуализация"
   ]
  },
  {
   "cell_type": "code",
   "execution_count": 343,
   "id": "969273e0",
   "metadata": {},
   "outputs": [],
   "source": [
    "#Убрали категорию другое\n",
    "dist_no_other = dist.drop('Другое', axis=0)"
   ]
  },
  {
   "cell_type": "code",
   "execution_count": 344,
   "id": "e865db84",
   "metadata": {},
   "outputs": [
    {
     "data": {
      "text/plain": [
       "<matplotlib.legend.Legend at 0x7f8989793390>"
      ]
     },
     "execution_count": 344,
     "metadata": {},
     "output_type": "execute_result"
    },
    {
     "data": {
      "image/png": "[encoded data removed]",
      "text/plain": [
       "<Figure size 1000x900 with 1 Axes>"
      ]
     },
     "metadata": {},
     "output_type": "display_data"
    }
   ],
   "source": [
    "# dist.drop(dist['categiry']], axis=1, inplace=True)\n",
    "dist_no_other[['mobile_%', 'desktop_%']].plot(\n",
    "    kind='barh',\n",
    "    figsize=(10,9),\n",
    "    title=\"Топ контрастных тематик\"\n",
    ")\n",
    "plt.xlabel('Доля, %')\n",
    "plt.ylabel('Тематика')\n",
    "plt.legend(['Мобильные', 'Десктопные'])"
   ]
  },
  {
   "cell_type": "markdown",
   "id": "efe67997",
   "metadata": {},
   "source": [
    "Видим, что для пользователей наиболее важна категория *18+*, можно заметить, что в ней сильно чаще используют мобильные устройства. В соцсети чаще заходят с десктопа, однако стоит учесть, что это связано с тем, что у меногих есть приложения социальных сетей на мобильных устройствах. Погоду чаще смотрят на мобльных устройствах. А вот в игры играю на десктопах\n"
   ]
  },
  {
   "cell_type": "markdown",
   "id": "8e469f94",
   "metadata": {},
   "source": [
    "Посмотрим на график без большой категрии *18+*, чтобы увидеть разицу между другими категорями"
   ]
  },
  {
   "cell_type": "code",
   "execution_count": null,
   "id": "cca39c0d",
   "metadata": {},
   "outputs": [
    {
     "data": {
      "text/plain": [
       "<matplotlib.legend.Legend at 0x7f898c6a2e90>"
      ]
     },
     "execution_count": 311,
     "metadata": {},
     "output_type": "execute_result"
    },
    {
     "data": {
      "image/png": "[encoded data removed]",
      "text/plain": [
       "<Figure size 1000x900 with 1 Axes>"
      ]
     },
     "metadata": {},
     "output_type": "display_data"
    }
   ],
   "source": [
    "dist_no_top_2 = dist.drop(['Другое', '18+'], axis=0)\n",
    "\n",
    "dist_no_top_2[['mobile_%', 'desktop_%']].plot(\n",
    "    kind='barh',\n",
    "    figsize=(10,9),\n",
    "    title=\"Топ контрастных тематик\"\n",
    ")\n",
    "plt.xlabel('Доля, %')\n",
    "plt.ylabel('Тематика')\n",
    "plt.legend(['Мобильные', 'Десктопные'])"
   ]
  },
  {
   "cell_type": "markdown",
   "id": "85b1c55a",
   "metadata": {},
   "source": [
    "Тут можно заметить, что почти недеференцированы, однако всё же смотрят их больше на десктопных устройствах. Музыку ищут на дескотов, но опять же, как и соцсетями, у многих есть мобильлное приложение или есть установленные аудиозаписи на телефоне. Категории работа и шопинг выделяются подомным с категорией *Музыка* образом и имеют похожее объяснение"
   ]
  }
 ],
 "metadata": {
  "kernelspec": {
   "display_name": "venv",
   "language": "python",
   "name": "python3"
  },
  "language_info": {
   "codemirror_mode": {
    "name": "ipython",
    "version": 3
   },
   "file_extension": ".py",
   "mimetype": "text/x-python",
   "name": "python",
   "nbconvert_exporter": "python",
   "pygments_lexer": "ipython3",
   "version": "3.13.3"
  }
 },
 "nbformat": 4,
 "nbformat_minor": 5
}
